{
 "cells": [
  {
   "cell_type": "markdown",
   "metadata": {
    "id": "dEOycDNPU3Zf"
   },
   "source": [
    "## Approximation theorem with neural network"
   ]
  },
  {
   "cell_type": "markdown",
   "metadata": {
    "id": "LQfNDKERVYmM"
   },
   "source": [
    "Approximation of (cos(pi/2 t), sin(pi/2 t)), t in [0,1] with two hidden layers (1,20,20,2) sigmoid function as an activation."
   ]
  },
  {
   "cell_type": "markdown",
   "metadata": {
    "id": "kpgwngbCV-Gg"
   },
   "source": [
    "**Initialization of the neural network**"
   ]
  },
  {
   "cell_type": "code",
   "execution_count": 38,
   "metadata": {
    "id": "ZcvTkyx8WCJC"
   },
   "outputs": [],
   "source": [
    "from random import random\n",
    "from random import seed\n",
    "#as we have 2 hidden layers, we need to precise as arg the number of neurons contained in each layer\n",
    "\n",
    "def initialize_network(n_inputs, n_hidden_1,n_hidden_2, n_outputs):\n",
    "  network=[]\n",
    "  #first hidden layer\n",
    "  hidden_layer_1=[{'weights':[random() for i in range(n_inputs + 1)]} for i in range(n_hidden_1)]\n",
    "  network.append(hidden_layer_1)\n",
    "  #second hidden layer\n",
    "  hidden_layer_2=[{'weights':[random() for i in range(n_hidden_1 + 1)]} for i in range(n_hidden_2)]\n",
    "  network.append(hidden_layer_2)\n",
    "  #output layer\n",
    "  output_layer=[{'weights':[random() for i in range(n_hidden_2 + 1)]} for i in range(n_outputs)]\n",
    "  network.append(output_layer)\n",
    "  return network\n"
   ]
  },
  {
   "cell_type": "code",
   "execution_count": 39,
   "metadata": {
    "colab": {
     "base_uri": "https://localhost:8080/"
    },
    "id": "rPh_Hz_XbqWw",
    "outputId": "07568c2c-073d-496a-e283-d2eb483d7a59"
   },
   "outputs": [
    {
     "name": "stdout",
     "output_type": "stream",
     "text": [
      "20\n",
      "20\n",
      "2\n"
     ]
    }
   ],
   "source": [
    "\n",
    "#test of the function\n",
    "seed(123)\n",
    "network=initialize_network(1,20,20,2)\n",
    "#the network is initialized without issue\n",
    "for layer in network:\n",
    "  print(len(layer))"
   ]
  },
  {
   "cell_type": "code",
   "execution_count": 40,
   "metadata": {
    "id": "c083eAZoYHw8"
   },
   "outputs": [],
   "source": [
    "#activation function\n",
    "def activate(weights, inputs):\n",
    "  activation=weights[-1] #init with the bias\n",
    "  for i in range(len(weights)-1):\n",
    "    activation+=weights[i]*inputs[i]\n",
    "  return activation\n",
    "\n",
    "#transfer function, we implement the sigmoid function\n",
    "from math import exp\n",
    "def transfer(activation):\n",
    "  return 1.0/(1.0 + exp(-activation))"
   ]
  },
  {
   "cell_type": "markdown",
   "metadata": {
    "id": "v6NqnLOoZMlj"
   },
   "source": [
    "Function to propagate the input through the network"
   ]
  },
  {
   "cell_type": "code",
   "execution_count": 41,
   "metadata": {
    "id": "Ypf6viomZQgg"
   },
   "outputs": [],
   "source": [
    "def forward_propagate(network, row):\n",
    "  #row represent the input value, in our case the input is just a simple number \n",
    "  #but along the network it will evolve with several values given the number of neuron in each layer\n",
    "  inputs=row\n",
    "  for layer in network:\n",
    "    new_inputs=[]\n",
    "    for neuron in layer:\n",
    "      activation=activate(neuron['weights'],inputs)\n",
    "      neuron['output']=transfer(activation)\n",
    "      new_inputs.append(neuron['output'])\n",
    "    inputs=new_inputs\n",
    "  return inputs\n",
    "  #at the end of the function, inputs represent the output values"
   ]
  },
  {
   "cell_type": "code",
   "execution_count": 42,
   "metadata": {
    "colab": {
     "base_uri": "https://localhost:8080/"
    },
    "id": "mUdxI2FKdwhh",
    "outputId": "d0ca8ff6-e5d6-4b05-8f9a-410023a04e3b"
   },
   "outputs": [
    {
     "name": "stdout",
     "output_type": "stream",
     "text": [
      "0.9999414500869123\n",
      "0.9999518580902553\n"
     ]
    }
   ],
   "source": [
    "#test of the propagation function \n",
    "row=[0.5]\n",
    "forward_propagate(network,row)\n",
    "for neuron in network[-1]:\n",
    "  print(neuron['output'])"
   ]
  },
  {
   "cell_type": "code",
   "execution_count": 43,
   "metadata": {
    "id": "UwkOph5dcjNS"
   },
   "outputs": [],
   "source": [
    "# derivative of the sigmoid transfer function\n",
    "def transfer_derivative(output):\n",
    "  return output*(1.0- output)\n"
   ]
  },
  {
   "cell_type": "markdown",
   "metadata": {
    "id": "CBbJ7CEbcYFw"
   },
   "source": [
    "Now that we can propagate the values from the input to the output, we need to make a u-turn in order to make our network learn from its mistakes"
   ]
  },
  {
   "cell_type": "code",
   "execution_count": 44,
   "metadata": {
    "id": "zXsm61IKO3ph"
   },
   "outputs": [],
   "source": [
    "def backward_propagate_error(network, expected):\n",
    "  #expected is the expected output \n",
    "\n",
    "  #we browse the network from the output\n",
    "  for i in reversed(range(len(network))):\n",
    "    layer=network[i]\n",
    "    errors=[]\n",
    "    #for the other layers\n",
    "    #we propagte the error by giving it the appropriated weight \n",
    "    if i != len(network)-1:\n",
    "      for j in range(len(layer)):\n",
    "        error=0.0\n",
    "        for neuron in network[i+1]:\n",
    "          error+= (neuron['weights'][j]*neuron['delta'])\n",
    "          errors.append(error)\n",
    "    #for the output layer\n",
    "    # compute the error as the difference between the output and the expected value\n",
    "    else:\n",
    "      for j in range(len(layer)):\n",
    "        neuron=layer[j]\n",
    "        errors.append(expected[j]-neuron['output'])\n",
    "    # setting the delta parameter for each neuron in the layer\n",
    "    for j in range(len(layer)):\n",
    "      neuron=layer[j]\n",
    "      neuron['delta']=errors[j]*transfer_derivative(neuron['output'])\n",
    "\n"
   ]
  },
  {
   "cell_type": "code",
   "execution_count": 45,
   "metadata": {
    "colab": {
     "base_uri": "https://localhost:8080/"
    },
    "id": "JtnhY6HhUTEc",
    "outputId": "439d2fbd-2a19-4682-969f-359335b6ade8"
   },
   "outputs": [
    {
     "name": "stdout",
     "output_type": "stream",
     "text": [
      "{'weights': [0.052363598850944326, 0.08718667752263232], 'output': 0.5230893259052121, 'delta': -2.7631991541697763e-10}\n"
     ]
    }
   ],
   "source": [
    "#test \n",
    "row=[0.1]\n",
    "forward_propagate(network,row)\n",
    "expected=[0.4,0.5]\n",
    "backward_propagate_error(network, expected)\n",
    "print(network[0][0])"
   ]
  },
  {
   "cell_type": "markdown",
   "metadata": {
    "id": "A98mIkctO4fr"
   },
   "source": [
    "Now we have the done the generic part (exept for the number of layers that is fixed as we want).\n",
    "Now we want to make our network adapted to approximate the wanted functions."
   ]
  },
  {
   "cell_type": "code",
   "execution_count": 46,
   "metadata": {
    "id": "jJFc9DyRTlh1"
   },
   "outputs": [],
   "source": [
    "def update_weights(network, row, learning_rate):\n",
    "  for i in range(len(network)):\n",
    "    #row is the initial inputs\n",
    "    outputs=row\n",
    "    if i!=0:\n",
    "      outputs=[neuron['output']for neuron in network[i-1]]\n",
    "    for neuron in network[i]:\n",
    "      for j in range(len(outputs)):\n",
    "        #updating the weights\n",
    "        neuron['weights'][j] += learning_rate*neuron['delta']*outputs[j]\n",
    "      neuron['weights'][-1]+=learning_rate*neuron['delta'] #updating the bias"
   ]
  },
  {
   "cell_type": "code",
   "execution_count": 47,
   "metadata": {
    "colab": {
     "base_uri": "https://localhost:8080/"
    },
    "id": "oyVfLHAKYdGO",
    "outputId": "102e117e-961f-47b9-a400-271e4f4e3c06"
   },
   "outputs": [
    {
     "name": "stdout",
     "output_type": "stream",
     "text": [
      "{'weights': [0.05236359883325462, 0.08718667748725291], 'output': 0.5283118028185826, 'delta': -1.7689706684351785e-10}\n"
     ]
    }
   ],
   "source": [
    "#test\n",
    "row=[0.5]\n",
    "forward_propagate(network,row)\n",
    "expected=[0.4,0.5]\n",
    "backward_propagate_error(network, expected)\n",
    "update_weights(network,row,0.2)\n",
    "print(network[0][0])"
   ]
  },
  {
   "cell_type": "markdown",
   "metadata": {
    "id": "-zpWyK2Bc41L"
   },
   "source": [
    "Finally, as we have all the functions we need, we can summarize all the functions in one training method in order to make the network learn from the dataset given in input."
   ]
  },
  {
   "cell_type": "code",
   "execution_count": 48,
   "metadata": {
    "id": "FCcA9DGgZJBx"
   },
   "outputs": [],
   "source": [
    "import numpy as np\n",
    "\n",
    "def train_network(network, train, learning_rate, n_epoch, n_outputs):\n",
    "  for epoch in range(n_epoch):\n",
    "    sum_error=0\n",
    "    for row in train:\n",
    "     #warning : the rows are meant to be lists, even if the length is 1\n",
    "      outputs=forward_propagate(network,row)\n",
    "      expected=[np.sin(np.pi/2*row[0]),np.cos(np.pi/2*row[0])]\n",
    "      sum_error+=sum([(expected[i]-outputs[i])**2 for i in range(len(expected))])/len(expected)\n",
    "      backward_propagate_error(network,expected)\n",
    "      update_weights(network,row, learning_rate)\n",
    "    print('>epoch=%d, learning rate=%.3f, error=%.3f' % (epoch, learning_rate, sum_error))"
   ]
  },
  {
   "cell_type": "markdown",
   "metadata": {
    "id": "7pNx5sMDdUQN"
   },
   "source": [
    "### Testing the neural network"
   ]
  },
  {
   "cell_type": "markdown",
   "metadata": {
    "id": "VpRXqkOgdYsF"
   },
   "source": [
    "All the functions are ready, now we need to set the training and the testing sets to see how the network behaves. First we will train the model with inputs only between 0 and 1"
   ]
  },
  {
   "cell_type": "code",
   "execution_count": 49,
   "metadata": {
    "id": "i4SjLvy4h2Nb"
   },
   "outputs": [],
   "source": [
    "samples_number=5000\n",
    "test=[random() for i in range(samples_number)]\n",
    "expected=[]\n",
    "dataset=[]\n",
    "for j in range(samples_number):\n",
    "  dataset.append([random()])\n",
    "  expected.append([np.sin(np.pi/2*test[j]), np.cos(np.pi/2*test[j])])"
   ]
  },
  {
   "cell_type": "code",
   "execution_count": 50,
   "metadata": {
    "colab": {
     "base_uri": "https://localhost:8080/"
    },
    "id": "IFBVJ5vYigMd",
    "outputId": "33cdf3b4-87a3-4439-ec10-91395a96ad7d"
   },
   "outputs": [
    {
     "name": "stdout",
     "output_type": "stream",
     "text": [
      ">epoch=0, learning rate=0.500, error=1108.246\n",
      ">epoch=1, learning rate=0.500, error=647.466\n",
      ">epoch=2, learning rate=0.500, error=619.354\n",
      ">epoch=3, learning rate=0.500, error=602.967\n",
      ">epoch=4, learning rate=0.500, error=325.544\n",
      ">epoch=5, learning rate=0.500, error=9.574\n",
      ">epoch=6, learning rate=0.500, error=8.347\n",
      ">epoch=7, learning rate=0.500, error=7.498\n",
      ">epoch=8, learning rate=0.500, error=6.858\n",
      ">epoch=9, learning rate=0.500, error=6.291\n",
      ">epoch=10, learning rate=0.500, error=5.730\n",
      ">epoch=11, learning rate=0.500, error=5.158\n",
      ">epoch=12, learning rate=0.500, error=4.596\n",
      ">epoch=13, learning rate=0.500, error=4.078\n",
      ">epoch=14, learning rate=0.500, error=3.628\n",
      ">epoch=15, learning rate=0.500, error=3.255\n",
      ">epoch=16, learning rate=0.500, error=2.952\n",
      ">epoch=17, learning rate=0.500, error=2.706\n",
      ">epoch=18, learning rate=0.500, error=2.503\n",
      ">epoch=19, learning rate=0.500, error=2.334\n"
     ]
    }
   ],
   "source": [
    "seed(123)\n",
    "network=initialize_network(1,20,20,2)\n",
    "train_network(network, dataset, 0.5, 20, 2)"
   ]
  },
  {
   "cell_type": "code",
   "execution_count": 51,
   "metadata": {
    "id": "1wdBXjcDiqjT"
   },
   "outputs": [],
   "source": [
    "def predict(network,row):\n",
    "  outputs=forward_propagate(network, row)\n",
    "  return outputs"
   ]
  },
  {
   "cell_type": "code",
   "execution_count": 52,
   "metadata": {
    "colab": {
     "base_uri": "https://localhost:8080/"
    },
    "id": "KI7rSFCGnG9X",
    "outputId": "14f2ddca-ae53-4014-c106-a8aefbaf5060"
   },
   "outputs": [
    {
     "data": {
      "text/plain": [
       "[0.07671557826340387, 0.9819083889654132]"
      ]
     },
     "execution_count": 52,
     "metadata": {},
     "output_type": "execute_result"
    }
   ],
   "source": [
    "#test if the prediction function works as we want\n",
    "a=0\n",
    "prediction=predict(network, [a])\n",
    "prediction"
   ]
  },
  {
   "cell_type": "code",
   "execution_count": 53,
   "metadata": {
    "colab": {
     "base_uri": "https://localhost:8080/"
    },
    "id": "kwRe1WgSnLcD",
    "outputId": "926b00b3-7f3e-4b82-fdaa-ee055049aca5"
   },
   "outputs": [
    {
     "name": "stdout",
     "output_type": "stream",
     "text": [
      "[[0.15307895250378148, 0.9651914978280388], [0.8926266317740629, 0.42056100581243694], [0.9469747904927514, 0.22851543835898983], [0.932670010154695, 0.2860312494697776], [0.9596849470361425, 0.17338837042702498], [0.8251888103993125, 0.5766026710786931], [0.4932781924037682, 0.8637356787843827], [0.25606282858500146, 0.9406626997603442], [0.8570418758096126, 0.5119175060393069], [0.976482117284695, 0.09648310083710225]]\n"
     ]
    }
   ],
   "source": [
    "#get the prediction for the dataset\n",
    "y_hat=[predict(network, [test[i]]) for i in range(len(test))]\n",
    "print(y_hat[0:10])"
   ]
  },
  {
   "cell_type": "code",
   "execution_count": 54,
   "metadata": {
    "colab": {
     "base_uri": "https://localhost:8080/",
     "height": 354
    },
    "id": "C_lqiePInpJd",
    "outputId": "aba4cb68-0f3d-4ac2-aa37-819679e0780d"
   },
   "outputs": [
    {
     "data": {
      "text/plain": [
       "<matplotlib.legend.Legend at 0x1f6c8885f70>"
      ]
     },
     "execution_count": 54,
     "metadata": {},
     "output_type": "execute_result"
    },
    {
     "data": {
      "image/png": "[encoded data removed]",
      "text/plain": [
       "<Figure size 1080x360 with 2 Axes>"
      ]
     },
     "metadata": {
      "needs_background": "light"
     },
     "output_type": "display_data"
    }
   ],
   "source": [
    "#comparing the predictions and the actual results if of the functions\n",
    "from matplotlib import pyplot as plt\n",
    "fig=plt.figure(figsize=(15,5))\n",
    "plt.subplot(121)\n",
    "plt.title('Sinus')\n",
    "plt.plot(test, [y[0] for y in expected], 'bo', label='Expected')\n",
    "plt.plot(test, [y_h[0] for y_h in y_hat], 'r*', label='Approximation')\n",
    "plt.legend()\n",
    "plt.subplot(122)\n",
    "plt.title('Cosinus')\n",
    "plt.plot(test, [y[1] for y in expected], 'bo',label='Expected')\n",
    "plt.plot(test, [y_h[1] for y_h in y_hat], 'r*',label='Approximation')\n",
    "plt.legend()\n"
   ]
  },
  {
   "cell_type": "code",
   "execution_count": null,
   "metadata": {
    "id": "2VUWLMujoVj5"
   },
   "outputs": [],
   "source": []
  },
  {
   "cell_type": "markdown",
   "metadata": {
    "id": "tjUuf0HRWKuM"
   },
   "source": [
    "### Try outside [0,1]"
   ]
  },
  {
   "cell_type": "markdown",
   "metadata": {
    "id": "I7qZt33hWPDE"
   },
   "source": [
    "To test how the neural network is really effective approximating the functions, we need to test it outside the interval it has been trained with to see if it actually makes good predictions.\n",
    "\n",
    "We will try inputs between [0,3] to begin"
   ]
  },
  {
   "cell_type": "code",
   "execution_count": 55,
   "metadata": {
    "id": "aVgu6GHyWpcT"
   },
   "outputs": [],
   "source": [
    "from random import uniform\n",
    "test2=[uniform(0,3) for i in range(samples_number)]\n",
    "expected2=[[np.sin(np.pi/2*test2[j]), np.cos(np.pi/2*test2[j])]for j in range(samples_number)]"
   ]
  },
  {
   "cell_type": "code",
   "execution_count": 56,
   "metadata": {
    "colab": {
     "base_uri": "https://localhost:8080/"
    },
    "id": "Bm0eSsRHXV-K",
    "outputId": "2439b902-14ac-4263-b0bd-c6288d6426d0"
   },
   "outputs": [
    {
     "name": "stdout",
     "output_type": "stream",
     "text": [
      "1.5116871246793318\n"
     ]
    }
   ],
   "source": [
    "#test if the testing set is well balanced\n",
    "print(np.mean(test2))"
   ]
  },
  {
   "cell_type": "code",
   "execution_count": 57,
   "metadata": {
    "colab": {
     "base_uri": "https://localhost:8080/"
    },
    "id": "9f0CHHVLXcb9",
    "outputId": "2ca41e20-96ea-4b37-f67c-445abbad470d"
   },
   "outputs": [
    {
     "name": "stdout",
     "output_type": "stream",
     "text": [
      "[[0.43293970805783577, 0.887329806817367], [0.9972271204941031, 0.00802234567976195], [0.9973825309864993, 0.007583780320986333], [0.9973459956097253, 0.00768372875069164], [0.9974132934679346, 0.007501748015385821], [0.9969329687766353, 0.008916431360070077], [0.9797805043347337, 0.08125228386926188], [0.7653205654409487, 0.6675946245130551], [0.9970909462533301, 0.008428248192764172], [0.9974524058707663, 0.007401623150882833]]\n"
     ]
    }
   ],
   "source": [
    "#get the prediction of the models\n",
    "y_hat2=[predict(network, [test2[i]]) for i in range(len(test2))]\n",
    "print(y_hat2[0:10])"
   ]
  },
  {
   "cell_type": "code",
   "execution_count": 58,
   "metadata": {
    "colab": {
     "base_uri": "https://localhost:8080/",
     "height": 354
    },
    "id": "msp0RyxJZHqD",
    "outputId": "bfb66e07-49c3-4dc6-a880-9f7a8bc76736"
   },
   "outputs": [
    {
     "data": {
      "text/plain": [
       "<matplotlib.legend.Legend at 0x1f6c8951100>"
      ]
     },
     "execution_count": 58,
     "metadata": {},
     "output_type": "execute_result"
    },
    {
     "data": {
      "image/png": "[encoded data removed]",
      "text/plain": [
       "<Figure size 1080x360 with 2 Axes>"
      ]
     },
     "metadata": {
      "needs_background": "light"
     },
     "output_type": "display_data"
    }
   ],
   "source": [
    "#comparing the predictions and the actual results if of the functions\n",
    "fig=plt.figure(figsize=(15,5))\n",
    "plt.subplot(121)\n",
    "plt.title('Sinus')\n",
    "#printing only the sinus app. and expected values\n",
    "plt.plot(test2, [y[0] for y in expected2], 'bo', label='Expected')\n",
    "plt.plot(test2, [y_h[0] for y_h in y_hat2], 'r*', label='Approximation')\n",
    "plt.legend()\n",
    "plt.subplot(122)\n",
    "#printing only the cosinus app. and expected values\n",
    "plt.title('Cosinus')\n",
    "plt.plot(test2, [y[1] for y in expected2], 'bo',label='Expected')\n",
    "plt.plot(test2, [y_h[1] for y_h in y_hat2], 'r*',label='Approximation')\n",
    "plt.legend()"
   ]
  },
  {
   "cell_type": "markdown",
   "metadata": {
    "id": "PWcx2LMvZta0"
   },
   "source": [
    "As we can see the network is not capable of generelazing the approximation is boths cases, once the border of the training set is reached (x>1) the network does not know how to predict the values."
   ]
  },
  {
   "cell_type": "markdown",
   "metadata": {
    "id": "3n0KLwwOahvb"
   },
   "source": [
    "**Hypothesis:** As sinus and cosinus functions are 2pi periodics, maybe if we train the model on a dataset taking values from [0,2] or [0,4] to have two periods, it will be capable of generalizing the functions on all R."
   ]
  },
  {
   "cell_type": "code",
   "execution_count": null,
   "metadata": {
    "id": "33uf_DhsbE_S"
   },
   "outputs": [],
   "source": []
  }
 ],
 "metadata": {
  "accelerator": "TPU",
  "colab": {
   "collapsed_sections": [],
   "name": "Approximation_Sin_Cos.ipynb",
   "provenance": []
  },
  "kernelspec": {
   "display_name": "Python 3",
   "language": "python",
   "name": "python3"
  },
  "language_info": {
   "codemirror_mode": {
    "name": "ipython",
    "version": 3
   },
   "file_extension": ".py",
   "mimetype": "text/x-python",
   "name": "python",
   "nbconvert_exporter": "python",
   "pygments_lexer": "ipython3",
   "version": "3.8.7"
  }
 },
 "nbformat": 4,
 "nbformat_minor": 1
}
